{
 "cells": [
  {
   "cell_type": "code",
   "execution_count": null,
   "metadata": {},
   "outputs": [],
   "source": [
    "from random import random\n",
    "import numpy as np"
   ]
  },
  {
   "cell_type": "code",
   "execution_count": null,
   "metadata": {},
   "outputs": [],
   "source": [
    "class Neuron:\n",
    "    def __init__(self,d,a,s):\n",
    "        print('This neuron is made of',d,'dendrites,',a,'axons, and',s,'synapses per dendrite.')\n",
    "        self.dendrites=[]\n",
    "        self.Nucleus=Nucleus()\n",
    "        self.axons=[]\n",
    "        \n",
    "        for i in range(d):\n",
    "            D=Dendrite(s)\n",
    "            self.dendrites.append(D)\n",
    "        for k in range(a):\n",
    "            A=Axon()\n",
    "            self.axons.append(A)\n",
    "            \n",
    "    def impulse(self,s,d,a): #sends an impulse on the Neuron\n",
    "        synapses_activated=0\n",
    "        dendrites_activated=0\n",
    "        for i in range(d):\n",
    "            A=self.dendrites[i].den_signal(s)\n",
    "            if A==True:\n",
    "                dendrites_activated+=1\n",
    "        for j in range(d):\n",
    "            for k in range(s):\n",
    "                if self.dendrites[j].synapses[k].incom_signal==True:\n",
    "                    synapses_activated+=1\n",
    "        print(synapses_activated,'synapses activated')\n",
    "        print(dendrites_activated,'dendrites activated over',d)\n",
    "        if dendrites_activated>4 :\n",
    "            self.Nucleus.updateMembranePotential()\n",
    "            for l in range(a):\n",
    "                L=self.axons[l].outcoming_signal()\n",
    "                if L==True:\n",
    "                    print('The action potential leaves the neuron threw one of the axons')\n",
    "        \n",
    "         \n",
    "        \n",
    "class Synapse: #first to get the signal\n",
    "    def __init__(self):\n",
    "        self.incom_signal=False\n",
    "    def get_syn_signal(self):\n",
    "        a=random()\n",
    "        if a<0.75:\n",
    "            self.incom_signal=True\n",
    "        return self.incom_signal"
   ]
  },
  {
   "cell_type": "code",
   "execution_count": null,
   "metadata": {},
   "outputs": [],
   "source": [
    "class Dendrite: #composed of many synapses\n",
    "    def __init__(self,s):\n",
    "        self.synapses=[] #for one dendrite, we have in average 1000 synapses\n",
    "        self.dend_signal=False\n",
    "        for i in range(s): #so s should be 1000 in average \n",
    "           S=Synapse()\n",
    "           self.synapses.append(S)\n",
    "        \n",
    "    def den_signal(self,s):\n",
    "        Nb=0 #number of incoming signal coming from the synapses, on one dendrite.\n",
    "        for k in range(s):\n",
    "            S=self.synapses[k]\n",
    "            signal=S.get_syn_signal()\n",
    "            if signal==True:\n",
    "                Nb+=1\n",
    "  \n",
    "        M=Nb/s\n",
    "        print(M)\n",
    "        if M>0.75 :\n",
    "            self.dend_signal=True #If more than 50% of the dendrites send signal, then it passes threw the dendrite.\n",
    "            print('The signal passes one of the dendrites')\n",
    "        elif M<0.75 :\n",
    "            print('One of the dendrites doesnt pass')\n",
    "        return self.dend_signal\n",
    "        \n",
    "        "
   ]
  },
  {
   "cell_type": "code",
   "execution_count": null,
   "metadata": {},
   "outputs": [],
   "source": [
    "class Nucleus:\n",
    "    def __init__(self):\n",
    "        self.V_th=-65\n",
    "        self.V_rest= -75\n",
    "        self.tau_m= 5\n",
    "        self.g_L= 10\n",
    "        self.V_init= -75\n",
    "        self.E_L= -75\n",
    "        self.I= 200\n",
    "        self.dt= 0.1\n",
    "        self.V=np.zeros(1000)\n",
    "        self.V[0]=self.V_init\n",
    "        \n",
    "    def updateMembranePotential(self):\n",
    "        print('Updating membrane potential')\n",
    "        for k in range(1,1000):\n",
    "            dV=(-(self.V[k-1]-self.V_rest)+self.I/self.g_L)/self.tau_m\n",
    "            if self.V[k-1]>=self.V_th:\n",
    "                self.V[k]=self.V_init\n",
    "            else:\n",
    "                self.V[k]=self.V[k-1]+(self.dt*dV)"
   ]
  },
  {
   "cell_type": "code",
   "execution_count": null,
   "metadata": {},
   "outputs": [],
   "source": [
    "class Axon : \n",
    "    def __init__(self):\n",
    "        self.passes_current=False\n",
    "    \n",
    "    def outcoming_signal(self):\n",
    "        self.passes_current=True\n",
    "        return(self.passes_current)\n",
    "    "
   ]
  },
  {
   "cell_type": "code",
   "execution_count": null,
   "metadata": {},
   "outputs": [],
   "source": [
    "def main():\n",
    "    s=1000\n",
    "    d=6\n",
    "    a=1\n",
    "    My_neuron=Neuron(d,a,s) #s is the number of synapses per dendrite\n",
    "    My_neuron.impulse(s,d,a)"
   ]
  }
 ],
 "metadata": {
  "kernelspec": {
   "display_name": "Python 3 (ipykernel)",
   "language": "python",
   "name": "python3"
  },
  "language_info": {
   "codemirror_mode": {
    "name": "ipython",
    "version": 3
   },
   "file_extension": ".py",
   "mimetype": "text/x-python",
   "name": "python",
   "nbconvert_exporter": "python",
   "pygments_lexer": "ipython3",
   "version": "3.10.7"
  }
 },
 "nbformat": 4,
 "nbformat_minor": 2
}
