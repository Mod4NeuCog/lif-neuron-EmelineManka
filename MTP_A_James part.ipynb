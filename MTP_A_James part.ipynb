{
 "cells": [
  {
   "cell_type": "code",
   "execution_count": 68,
   "id": "d133f90d",
   "metadata": {},
   "outputs": [],
   "source": [
    "from random import random\n",
    "def run():\n",
    "    questions=['Q1', 'Q2', 'Q3', 'Q4']\n",
    "    # Define the probabilities and rewards based on the inputA\n",
    "    probabilities = [0.9, 0.75, 0.5, 0.1]\n",
    "    rewards = [100, 1000, 10000, 50000]\n",
    "    total_reward=0\n",
    "    \n",
    "    for k in range(len(questions)):\n",
    "        Question = questions[k]\n",
    "        Decision=input('Do you want to play? Y/N')\n",
    "        while Decision not in ['Y','N']:\n",
    "            print('Wrong entry, please answer Y or N')\n",
    "            Decision=input('Do you want to play? Y/N')\n",
    "\n",
    "        if Decision == 'Y': #then we play\n",
    "            issue=random()\n",
    "            if issue<probabilities[k]: #then you won\n",
    "                print('You won the question',k+1)\n",
    "                rew = rewards[k]\n",
    "                total_reward+=rew\n",
    "            else : #then you lost\n",
    "                print('You lost')\n",
    "                break\n",
    "        else:\n",
    "            print('Quit')\n",
    "            break\n",
    "    print('Your total rewards is',total_reward)\n",
    "\n",
    "    \n"
   ]
  },
  {
   "cell_type": "code",
   "execution_count": 70,
   "id": "e3813d79",
   "metadata": {},
   "outputs": [
    {
     "name": "stdout",
     "output_type": "stream",
     "text": [
      "Do you want to play? Y/NY\n",
      "You won the question 1\n",
      "Do you want to play? Y/NY\n",
      "You won the question 2\n",
      "Do you want to play? Y/NN\n",
      "Quit\n",
      "Your total rewards is 1100\n"
     ]
    }
   ],
   "source": [
    "run()"
   ]
  },
  {
   "cell_type": "code",
   "execution_count": null,
   "id": "f20b5cc7",
   "metadata": {},
   "outputs": [],
   "source": []
  }
 ],
 "metadata": {
  "kernelspec": {
   "display_name": "Python 3 (ipykernel)",
   "language": "python",
   "name": "python3"
  },
  "language_info": {
   "codemirror_mode": {
    "name": "ipython",
    "version": 3
   },
   "file_extension": ".py",
   "mimetype": "text/x-python",
   "name": "python",
   "nbconvert_exporter": "python",
   "pygments_lexer": "ipython3",
   "version": "3.10.9"
  }
 },
 "nbformat": 4,
 "nbformat_minor": 5
}
