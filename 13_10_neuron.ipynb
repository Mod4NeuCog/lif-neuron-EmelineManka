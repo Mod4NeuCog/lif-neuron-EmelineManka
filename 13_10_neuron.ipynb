{
 "cells": [
  {
   "cell_type": "code",
   "execution_count": null,
   "metadata": {},
   "outputs": [],
   "source": [
    "from glial_cell import glial_cell"
   ]
  },
  {
   "cell_type": "code",
   "execution_count": null,
   "metadata": {},
   "outputs": [],
   "source": [
    "class neuron :\n",
    "     \n",
    "    def __init__(self):\n",
    "        self.stomach=100\n",
    "    \n",
    "    def becoming_hungry(self):\n",
    "        self.stomach=self.stomach-50\n",
    "        \n",
    "    def get_fed(self,nutrients):\n",
    "        self.stomach=self.stomach+nutrients\n",
    "       "
   ]
  },
  {
   "cell_type": "markdown",
   "metadata": {},
   "source": [
    "Here I declare the two functions : one which makes the stomach content decreasing, one which does the opposite."
   ]
  },
  {
   "cell_type": "code",
   "execution_count": null,
   "metadata": {},
   "outputs": [],
   "source": [
    "def main():\n",
    "    neuron_i=neuron()\n",
    "    glial_i=glial_cell()\n",
    "    \n",
    "    for t in range(1000):\n",
    "        neuron_i.becoming_hungry()\n",
    "        print('My stomach is',neuron_i.stomach)\n",
    "        if neuron_i.stomach<50 :\n",
    "            nutrients=glial_i.get_meal()\n",
    "            print('Miam miam I ate',nutrients)\n",
    "            neuron_i.get_fed(nutrients)"
   ]
  },
  {
   "cell_type": "markdown",
   "metadata": {},
   "source": [
    "Each time the neuron receives food from the other class I print 'Miam miam I ate'"
   ]
  },
  {
   "cell_type": "markdown",
   "metadata": {},
   "source": [
    "I also add a print for the value of the stomach content"
   ]
  },
  {
   "cell_type": "markdown",
   "metadata": {},
   "source": [
    "An improvment could be to make the decreasing variate. Because the result given by the main function is really periodic."
   ]
  },
  {
   "cell_type": "markdown",
   "metadata": {},
   "source": []
  }
 ],
 "metadata": {
  "kernelspec": {
   "display_name": "Python 3 (ipykernel)",
   "language": "python",
   "name": "python3"
  },
  "language_info": {
   "codemirror_mode": {
    "name": "ipython",
    "version": 3
   },
   "file_extension": ".py",
   "mimetype": "text/x-python",
   "name": "python",
   "nbconvert_exporter": "python",
   "pygments_lexer": "ipython3",
   "version": "3.10.7"
  }
 },
 "nbformat": 4,
 "nbformat_minor": 2
}
