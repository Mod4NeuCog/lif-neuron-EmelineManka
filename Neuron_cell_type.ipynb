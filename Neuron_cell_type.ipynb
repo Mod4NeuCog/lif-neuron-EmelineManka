{
 "cells": [
  {
   "cell_type": "code",
   "execution_count": null,
   "metadata": {},
   "outputs": [],
   "source": [
    "# -*- coding: utf-8 -*-\n",
    "\"\"\"\n",
    "Created on Wed Oct 12 14:33:31 2022"
   ]
  },
  {
   "cell_type": "code",
   "execution_count": null,
   "metadata": {},
   "outputs": [],
   "source": [
    "@author: emeli\n",
    "\"\"\""
   ]
  },
  {
   "cell_type": "code",
   "execution_count": null,
   "metadata": {},
   "outputs": [],
   "source": [
    "class Neuron_cell_type :\n",
    "    \n",
    "    def __init__(self):\n",
    "       self.I=200\n",
    "       self.n=1000\n",
    "       self.V_reset=-75\n",
    "       self.V_th=-65\n",
    "       self.dt=0.1\n",
    "       self.tau_m=5\n",
    "       self.g_L=10\n",
    "       self.V_init=-75\n",
    "       self.Vlist=[] #List for potential values\n",
    "       self.Xlist=[]    #List for timeline\n",
    "       self.Xlist.append(0)     #adds the first time, at 0\n",
    "       self.Vlist.append(self.V_init)    #adds the first potential, V_init\n",
    "               \n",
    "       # for t in range(1,self.n):\n",
    "       #     self.Xlist.append(t)\n",
    "       #     if V(t)>self.V_th:\n",
    "       #         self.Vlist.append(self.V_reset)\n",
    "       #     else:\n",
    "       #         self.Vlist.append(V(t))\n",
    "       \n",
    "       \n",
    "       def updateMembranePotential(self):\n",
    "           def dVdt(t):\n",
    "               last_V=self.Vlist[t-1]\n",
    "               return (-(last_V-self.self.V_reset)+(self.I/self.g_L))/self.tau_m\n",
    "               \n",
    "           def V(t):\n",
    "               last_V=self.Vlist[t-1]\n",
    "               return last_V+(dVdt(t)*self.dt)\n",
    "           \n",
    "           for k in range(1,1000):\n",
    "               dV=(-(self.Vlist[k-1]-self.V_reset)+self.I/self.g_L)/self.tau_m\n",
    "               if self.Vlist[k-1]>= self.V_th:\n",
    "                   self.Vlist[k]=self.V_init\n",
    "                   print(f\"Spiked at {k}\")\n",
    "               else:\n",
    "                   self.Vlist[k]=self.Vlist[k-1]+(self.dt*dV)"
   ]
  },
  {
   "cell_type": "markdown",
   "metadata": {},
   "source": [
    "I reused the functions that I created for the LIF neuron exercize, but i'm not sure that I can declare functions (dV, dVdt) in the big function updatepotentialmembrane"
   ]
  },
  {
   "cell_type": "code",
   "execution_count": null,
   "metadata": {},
   "outputs": [],
   "source": []
  }
 ],
 "metadata": {
  "kernelspec": {
   "display_name": "Python 3 (ipykernel)",
   "language": "python",
   "name": "python3"
  },
  "language_info": {
   "codemirror_mode": {
    "name": "ipython",
    "version": 3
   },
   "file_extension": ".py",
   "mimetype": "text/x-python",
   "name": "python",
   "nbconvert_exporter": "python",
   "pygments_lexer": "ipython3",
   "version": "3.10.7"
  }
 },
 "nbformat": 4,
 "nbformat_minor": 2
}
