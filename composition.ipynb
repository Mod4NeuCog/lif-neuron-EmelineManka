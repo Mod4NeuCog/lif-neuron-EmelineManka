{
 "cells": [
  {
   "cell_type": "code",
   "execution_count": null,
   "metadata": {},
   "outputs": [],
   "source": [
    "class neuron :\n",
    "    def __init__(self):\n",
    "        self.stomach=100\n",
    "    \n",
    "    def becoming_hungry(self):\n",
    "        self.stomach=self.stomach-50\n",
    "        \n",
    "    def get_fed(self,nutrients):\n",
    "        self.stomach=self.stomach+nutrients\n",
    "        \n",
    "        \n",
    "        \n",
    "class glial_cell:\n",
    "    \n",
    "    def __init__(self):\n",
    "        self.nutrient=200\n",
    "        \n",
    "    def get_meal(self):\n",
    "        return self.nutrient\n",
    "    \n",
    "    \n",
    "class Neuron_network :\n",
    "    def __init__(self,n,g):\n",
    "        self.neurons=[]\n",
    "        self.glial_cells=[]\n",
    "        for i in range(n):\n",
    "            N=neuron()\n",
    "            self.neurons.append(N)\n",
    "        for j in range(g):\n",
    "            G=glial_cell()\n",
    "            self.glial_cells.append(G)"
   ]
  },
  {
   "cell_type": "markdown",
   "metadata": {},
   "source": [
    "I reused the classes used for the last exercizes even if I don't use the parameters. n is the number of neurons I want in my network, and g the number of glial cells."
   ]
  },
  {
   "cell_type": "code",
   "execution_count": null,
   "metadata": {},
   "outputs": [],
   "source": [
    "def main():\n",
    "    my_network=Neuron_network(100,1000)\n",
    "   \n",
    "    print(my_network.neurons)\n",
    "    print(my_network.glial_cells)\n",
    "        "
   ]
  },
  {
   "cell_type": "markdown",
   "metadata": {},
   "source": [
    "And I create a network by creating 100 glial cells and 1000 neurons"
   ]
  },
  {
   "cell_type": "markdown",
   "metadata": {},
   "source": [
    "I just add a print to see if my objects were created."
   ]
  },
  {
   "cell_type": "code",
   "execution_count": null,
   "metadata": {},
   "outputs": [],
   "source": []
  }
 ],
 "metadata": {
  "kernelspec": {
   "display_name": "Python 3 (ipykernel)",
   "language": "python",
   "name": "python3"
  },
  "language_info": {
   "codemirror_mode": {
    "name": "ipython",
    "version": 3
   },
   "file_extension": ".py",
   "mimetype": "text/x-python",
   "name": "python",
   "nbconvert_exporter": "python",
   "pygments_lexer": "ipython3",
   "version": "3.10.7"
  }
 },
 "nbformat": 4,
 "nbformat_minor": 2
}
