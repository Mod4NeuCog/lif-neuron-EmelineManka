{
 "cells": [
  {
   "cell_type": "code",
   "execution_count": null,
   "metadata": {},
   "outputs": [],
   "source": [
    "# -*- coding: utf-8 -*-\n",
    "\"\"\"\n",
    "Created on Wed Oct 12 15:19:25 2022"
   ]
  },
  {
   "cell_type": "code",
   "execution_count": null,
   "metadata": {},
   "outputs": [],
   "source": [
    "@author: emeli\n",
    "\"\"\""
   ]
  },
  {
   "cell_type": "code",
   "execution_count": null,
   "metadata": {},
   "outputs": [],
   "source": [
    "from Neuron_cell_type import Neuron_cell_type"
   ]
  },
  {
   "cell_type": "code",
   "execution_count": null,
   "metadata": {},
   "outputs": [],
   "source": [
    "class ovoid_euron(Neuron_cell_type):\n",
    "    \n",
    "    def __init__(self):\n",
    "        super(Neuron_cell_type, self).__init__() #super allows to recall the init function of the motherclass if when we create specific parameters in the child classes \n",
    "        self.Enzyme_Z_activity=500\n",
    "        \n",
    "        \n",
    "    def metabolic_ovoid_function(self) :\n",
    "        if self.Enzyme_Z_activity>500 :\n",
    "            self.updateMembranePotential() "
   ]
  },
  {
   "cell_type": "markdown",
   "metadata": {},
   "source": [
    "Same principle as in the other subclass"
   ]
  },
  {
   "cell_type": "code",
   "execution_count": null,
   "metadata": {},
   "outputs": [],
   "source": []
  }
 ],
 "metadata": {
  "kernelspec": {
   "display_name": "Python 3 (ipykernel)",
   "language": "python",
   "name": "python3"
  },
  "language_info": {
   "codemirror_mode": {
    "name": "ipython",
    "version": 3
   },
   "file_extension": ".py",
   "mimetype": "text/x-python",
   "name": "python",
   "nbconvert_exporter": "python",
   "pygments_lexer": "ipython3",
   "version": "3.10.7"
  }
 },
 "nbformat": 4,
 "nbformat_minor": 2
}
